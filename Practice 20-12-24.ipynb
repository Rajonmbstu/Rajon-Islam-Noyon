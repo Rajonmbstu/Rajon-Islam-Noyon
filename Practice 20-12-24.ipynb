{
  "nbformat": 4,
  "nbformat_minor": 0,
  "metadata": {
    "colab": {
      "provenance": [],
      "authorship_tag": "ABX9TyPWSJ2ar1dOBFEKlziDvvbS",
      "include_colab_link": true
    },
    "kernelspec": {
      "name": "python3",
      "display_name": "Python 3"
    },
    "language_info": {
      "name": "python"
    }
  },
  "cells": [
    {
      "cell_type": "markdown",
      "metadata": {
        "id": "view-in-github",
        "colab_type": "text"
      },
      "source": [
        "<a href=\"https://colab.research.google.com/github/Rajonmbstu/Rajon-Islam-Noyon/blob/main/Practice%2020-12-24.ipynb\" target=\"_parent\"><img src=\"https://colab.research.google.com/assets/colab-badge.svg\" alt=\"Open In Colab\"/></a>"
      ]
    },
    {
      "cell_type": "code",
      "execution_count": 2,
      "metadata": {
        "colab": {
          "base_uri": "https://localhost:8080/"
        },
        "id": "La8s10TEdP8G",
        "outputId": "7edfba77-dca8-4dd2-b3b3-4c25ad98c193"
      },
      "outputs": [
        {
          "output_type": "stream",
          "name": "stdout",
          "text": [
            "1 2 3\n",
            "1.0 2.8 3.0\n",
            "s1 2 3.0\n"
          ]
        }
      ],
      "source": [
        "#Python Type Casting\n",
        "\n",
        "#Int:\n",
        "x = int(1)   # x will be 1\n",
        "y = int(2.8) # y will be 2\n",
        "z = int(\"3\") # z will be 3\n",
        "print(x,y,z)\n",
        "\n",
        "#Float:\n",
        "\n",
        "x = float(1)     # x will be 1.0\n",
        "y = float(2.8)   # y will be 2.8\n",
        "z = float(\"3\")   # z will be 3.0\n",
        "w = float(\"4.2\") # w will be 4.2\n",
        "print(x,y,z)\n",
        "\n",
        "#String:\n",
        "\n",
        "x = str(\"s1\") # x will be 's1'\n",
        "y = str(2)    # y will be '2'\n",
        "z = str(3.0)  # z will be '3.0'\n",
        "print(x,y,z)\n"
      ]
    },
    {
      "cell_type": "code",
      "source": [
        "#String:\n",
        "print(\"It's alright\")\n",
        "print(\"He is called 'Johnny'\")\n",
        "print('He is called \"Johnny\"')\n",
        "\n",
        "#Assign String to a Variable\n",
        "a = \"Hello\"\n",
        "print(a)\n",
        "#Multiline Strings\n",
        "a = \"\"\"Lorem ipsum dolor sit amet,\n",
        "consectetur adipiscing elit,\n",
        "sed do eiusmod tempor incididunt\n",
        "ut labore et dolore magna aliqua.\"\"\"\n",
        "print(a)\n",
        "\n",
        "a = '''Lorem ipsum dolor sit amet,\n",
        "consectetur adipiscing elit,\n",
        "sed do eiusmod tempor incididunt\n",
        "ut labore et dolore magna aliqua.'''\n",
        "print(a)\n",
        "\n",
        "#Strings are Arrays\n",
        "a = \"Hello, World!\"\n",
        "print(a[1])\n",
        "\n",
        "#Looping Through a String:\n",
        "for x in \"banana\":\n",
        "  print(x)\n",
        "#String Length\n",
        "a = \"Hello, World!\"\n",
        "print(len(a))\n",
        "\n",
        "#Check if NOT\n",
        "txt = \"The best things in life are free!\"\n",
        "print(\"expensive\" not in txt)\n",
        "#Slicing\n",
        "b = \"Hello, World!\"\n",
        "print(b[2:5])\n",
        "\n",
        "#String Concatenation\n",
        "a = \"Hello\"\n",
        "b = \"World\"\n",
        "c = a + b\n",
        "print(c)\n"
      ],
      "metadata": {
        "colab": {
          "base_uri": "https://localhost:8080/"
        },
        "id": "8aJNSBQNfsqq",
        "outputId": "5037d1b8-620a-4e89-cc85-ad4066b51ac9"
      },
      "execution_count": 3,
      "outputs": [
        {
          "output_type": "stream",
          "name": "stdout",
          "text": [
            "It's alright\n",
            "He is called 'Johnny'\n",
            "He is called \"Johnny\"\n",
            "Hello\n",
            "Lorem ipsum dolor sit amet,\n",
            "consectetur adipiscing elit,\n",
            "sed do eiusmod tempor incididunt\n",
            "ut labore et dolore magna aliqua.\n",
            "Lorem ipsum dolor sit amet,\n",
            "consectetur adipiscing elit,\n",
            "sed do eiusmod tempor incididunt\n",
            "ut labore et dolore magna aliqua.\n",
            "e\n",
            "b\n",
            "a\n",
            "n\n",
            "a\n",
            "n\n",
            "a\n",
            "13\n",
            "True\n",
            "llo\n",
            "HelloWorld\n"
          ]
        }
      ]
    },
    {
      "cell_type": "code",
      "source": [
        "#Python operator\n",
        "print(10 + 5)\n",
        "print((6 + 3) - (6 + 3))\n",
        "print(100 + 5 * 3)"
      ],
      "metadata": {
        "colab": {
          "base_uri": "https://localhost:8080/"
        },
        "id": "HCx4wixXhDni",
        "outputId": "560b3a6a-0761-4c94-b6d4-48c13bf3d42c"
      },
      "execution_count": 4,
      "outputs": [
        {
          "output_type": "stream",
          "name": "stdout",
          "text": [
            "15\n",
            "0\n",
            "115\n"
          ]
        }
      ]
    },
    {
      "cell_type": "code",
      "source": [],
      "metadata": {
        "id": "vmUhgOSVepDz"
      },
      "execution_count": null,
      "outputs": []
    }
  ]
}